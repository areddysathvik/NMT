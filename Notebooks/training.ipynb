{
 "cells": [
  {
   "cell_type": "code",
   "execution_count": 1,
   "id": "43f83952",
   "metadata": {},
   "outputs": [],
   "source": [
    "import tensorflow as tf\n",
    "from tensorflow.keras.layers import Dense,Embedding\n",
    "import numpy as np\n",
    "import matplotlib.pyplot as plt\n",
    "import pandas as pd\n",
    "import numpy as np"
   ]
  },
  {
   "cell_type": "code",
   "execution_count": 2,
   "id": "43d07e26",
   "metadata": {},
   "outputs": [],
   "source": [
    "NUM_SENTENCES = 50000 \n",
    "MAX_NUM_WORDS = 50000\n",
    "MAX_SENT_LEN = 50\n",
    "\n",
    "EMBEDDING_SIZE = 100\n",
    "\n",
    "LSTM_NEURONS = 100\n",
    "\n",
    "BATCH_SIZE = 16\n",
    "EPOCHS = 20"
   ]
  },
  {
   "cell_type": "code",
   "execution_count": 3,
   "id": "9b9a864d",
   "metadata": {},
   "outputs": [],
   "source": [
    "path_en = r\"C:\\Users\\aredd\\Desktop\\NMT\\data\\raw\\small_vocab_en.txt\"\n",
    "path_fr = r\"C:\\Users\\aredd\\Desktop\\NMT\\data\\raw\\small_vocab_fr.txt\"\n",
    "\n",
    "with open(path_en, 'r', encoding='utf-8') as f_en:\n",
    "    inputs = f_en.readlines()\n",
    "\n",
    "with open(path_fr, 'r', encoding='utf-8') as f_fr:\n",
    "    outputs = f_fr.readlines()\n",
    "    \n",
    "inputs = [word.strip() for word in inputs]\n",
    "outputs_i = ['<sos> ' + word.strip() for word in outputs]\n",
    "outputs = [word.strip() + ' <eos>' for word in outputs]"
   ]
  },
  {
   "cell_type": "code",
   "execution_count": 4,
   "id": "a6417aca",
   "metadata": {},
   "outputs": [],
   "source": [
    "# taking first N \n",
    "inputs = inputs[:NUM_SENTENCES]\n",
    "outputs_i = outputs_i[:NUM_SENTENCES] \n",
    "outputs = outputs[:NUM_SENTENCES] "
   ]
  },
  {
   "cell_type": "code",
   "execution_count": 5,
   "id": "323b8767",
   "metadata": {},
   "outputs": [
    {
     "data": {
      "text/plain": [
       "(50000, 50000, 50000)"
      ]
     },
     "execution_count": 5,
     "metadata": {},
     "output_type": "execute_result"
    }
   ],
   "source": [
    "len(inputs),len(outputs),len(outputs_i)"
   ]
  },
  {
   "cell_type": "code",
   "execution_count": 6,
   "id": "a1e95387",
   "metadata": {},
   "outputs": [
    {
     "name": "stdout",
     "output_type": "stream",
     "text": [
      "Total inputs = 50000\n",
      "Total intermediate outputs = 50000\n",
      "Total outputs = 50000\n",
      "\n",
      "Sample:\n",
      "new jersey is usually quiet during fall , but it is usually warm in april .\n",
      "<sos> new jersey est généralement calme au cours de l' automne , mais il est généralement chaud en avril .\n",
      "new jersey est généralement calme au cours de l' automne , mais il est généralement chaud en avril . <eos>\n"
     ]
    }
   ],
   "source": [
    "print('Total inputs =', len(inputs))\n",
    "print('Total intermediate outputs =', len(outputs_i))\n",
    "print('Total outputs =', len(outputs))\n",
    "print('\\nSample:')\n",
    "print(inputs[100])\n",
    "print(outputs_i[100])\n",
    "print(outputs[100])"
   ]
  },
  {
   "cell_type": "code",
   "execution_count": 7,
   "id": "0ef25bed",
   "metadata": {},
   "outputs": [
    {
     "name": "stdout",
     "output_type": "stream",
     "text": [
      "Total unique words in input: 199\n",
      "Length of longest sentence in input: 15\n",
      "Total unique words in output: 346\n",
      "Length of longest sentence in output: 22\n"
     ]
    }
   ],
   "source": [
    "from keras.preprocessing.text import Tokenizer\n",
    "\n",
    "input_tokenizer = Tokenizer(num_words=MAX_NUM_WORDS)\n",
    "input_tokenizer.fit_on_texts(inputs)\n",
    "\n",
    "inputs_seq = input_tokenizer.texts_to_sequences(inputs)\n",
    "\n",
    "inputs_word2index = input_tokenizer.word_index\n",
    "print('Total unique words in input:', len(inputs_word2index))\n",
    "\n",
    "inputs_numwords = len(inputs_word2index)+1\n",
    "\n",
    "inputs_maxlen = max(len(s) for s in inputs_seq)\n",
    "print('Length of longest sentence in input:', inputs_maxlen)\n",
    "\n",
    "output_tokenizer = Tokenizer(num_words=MAX_NUM_WORDS, filters='')\n",
    "output_tokenizer.fit_on_texts(outputs_i + outputs)\n",
    "\n",
    "outputs_i_seq = output_tokenizer.texts_to_sequences(outputs_i)\n",
    "outputs_seq = output_tokenizer.texts_to_sequences(outputs)\n",
    "\n",
    "outputs_word2index = output_tokenizer.word_index\n",
    "print('Total unique words in output:', len(outputs_word2index))\n",
    "\n",
    "outputs_numwords = len(outputs_word2index)+1\n",
    "\n",
    "outputs_maxlen = max(len(s) for s in outputs_seq)\n",
    "print('Length of longest sentence in output:', outputs_maxlen)"
   ]
  },
  {
   "cell_type": "code",
   "execution_count": 8,
   "id": "277f30db",
   "metadata": {},
   "outputs": [
    {
     "name": "stdout",
     "output_type": "stream",
     "text": [
      "encoder_input_sequences shape: (50000, 15)\n",
      "decoder_inputs_sequences shape: (50000, 22)\n",
      "decoder_output_sequences shape: (50000, 22)\n"
     ]
    }
   ],
   "source": [
    "from keras.utils import pad_sequences\n",
    "\n",
    "encoder_input_sequences = pad_sequences(inputs_seq, maxlen=inputs_maxlen)\n",
    "print('encoder_input_sequences shape:', encoder_input_sequences.shape)\n",
    "\n",
    "decoder_input_sequences = pad_sequences(outputs_i_seq, maxlen=outputs_maxlen, padding='post')\n",
    "print('decoder_inputs_sequences shape:', decoder_input_sequences.shape)\n",
    "\n",
    "decoder_output_sequences = pad_sequences(outputs_seq, maxlen=outputs_maxlen, padding='post')\n",
    "print('decoder_output_sequences shape:', decoder_output_sequences.shape)"
   ]
  },
  {
   "cell_type": "code",
   "execution_count": 9,
   "id": "c1da2681",
   "metadata": {},
   "outputs": [],
   "source": [
    "from numpy import asarray, zeros\n",
    "\n",
    "embeddings_dict = dict()\n",
    "\n",
    "glove_file = open(r\"C:\\Users\\aredd\\Desktop\\NMT\\data\\glove.6B.100d.txt\", encoding='utf8')\n",
    "\n",
    "for line in glove_file:\n",
    "    records = line.split()\n",
    "    word = records[0]\n",
    "    vector = asarray(records[1:], dtype='float32')\n",
    "    embeddings_dict[word] = vector\n",
    "\n",
    "glove_file.close()"
   ]
  },
  {
   "cell_type": "code",
   "execution_count": 10,
   "id": "22794c57",
   "metadata": {},
   "outputs": [],
   "source": [
    "num_words = min(MAX_NUM_WORDS, len(inputs_word2index)+1)\n",
    "\n",
    "embedding_matrix = zeros((num_words, EMBEDDING_SIZE))\n",
    "\n",
    "for word, index in inputs_word2index.items():\n",
    "    embedding_vector = embeddings_dict.get(word)\n",
    "    if embedding_vector is not None:\n",
    "        embedding_matrix[index] = embedding_vector"
   ]
  },
  {
   "cell_type": "code",
   "execution_count": 11,
   "id": "1322afa7",
   "metadata": {},
   "outputs": [
    {
     "name": "stdout",
     "output_type": "stream",
     "text": [
      "decoder_outputs_onehot shape: (50000, 22, 347)\n"
     ]
    }
   ],
   "source": [
    "from keras.layers import Input, Embedding, LSTM, Dense\n",
    "from keras.regularizers import l2\n",
    "\n",
    "encoder_embedding_layer = Embedding(num_words, EMBEDDING_SIZE, weights=[embedding_matrix], input_length=inputs_maxlen)\n",
    "decoder_embedding_layer = Embedding(outputs_numwords, LSTM_NEURONS)\n",
    "\n",
    "decoder_outputs_onehot = zeros((len(inputs), outputs_maxlen, outputs_numwords), dtype='float32')\n",
    "print('decoder_outputs_onehot shape:', decoder_outputs_onehot.shape)\n",
    "\n",
    "for i, d in enumerate(decoder_output_sequences):\n",
    "    for t, w in enumerate(d):\n",
    "        decoder_outputs_onehot[i, t, w] = 1\n",
    "\n",
    "\n",
    "encoder_inputs = Input(shape=(inputs_maxlen,))\n",
    "encoder_inputs_emb = encoder_embedding_layer(encoder_inputs)\n",
    "encoder = LSTM(LSTM_NEURONS, \n",
    "               return_state=True,)\n",
    "\n",
    "encoder_outputs, h, c = encoder(encoder_inputs_emb)\n",
    "encoder_states = [h, c]\n",
    "\n",
    "decoder_inputs = Input(shape=(outputs_maxlen,))\n",
    "decoder_inputs_emb = decoder_embedding_layer(decoder_inputs)\n",
    "decoder = LSTM(LSTM_NEURONS, \n",
    "               return_sequences=True, \n",
    "               return_state=True)\n",
    "\n",
    "decoder_outputs, _, _ = decoder(decoder_inputs_emb, initial_state=encoder_states)\n",
    "\n",
    "output_dense_layer = Dense(outputs_numwords, activation='softmax')\n",
    "outputs = output_dense_layer(decoder_outputs)"
   ]
  },
  {
   "cell_type": "code",
   "execution_count": 12,
   "id": "3e80b8c0",
   "metadata": {},
   "outputs": [
    {
     "name": "stdout",
     "output_type": "stream",
     "text": [
      "Model: \"model\"\n",
      "__________________________________________________________________________________________________\n",
      " Layer (type)                   Output Shape         Param #     Connected to                     \n",
      "==================================================================================================\n",
      " input_1 (InputLayer)           [(None, 15)]         0           []                               \n",
      "                                                                                                  \n",
      " input_2 (InputLayer)           [(None, 22)]         0           []                               \n",
      "                                                                                                  \n",
      " embedding (Embedding)          (None, 15, 100)      20000       ['input_1[0][0]']                \n",
      "                                                                                                  \n",
      " embedding_1 (Embedding)        (None, 22, 100)      34700       ['input_2[0][0]']                \n",
      "                                                                                                  \n",
      " lstm (LSTM)                    [(None, 100),        80400       ['embedding[0][0]']              \n",
      "                                 (None, 100),                                                     \n",
      "                                 (None, 100)]                                                     \n",
      "                                                                                                  \n",
      " lstm_1 (LSTM)                  [(None, 22, 100),    80400       ['embedding_1[0][0]',            \n",
      "                                 (None, 100),                     'lstm[0][1]',                   \n",
      "                                 (None, 100)]                     'lstm[0][2]']                   \n",
      "                                                                                                  \n",
      " dense (Dense)                  (None, 22, 347)      35047       ['lstm_1[0][0]']                 \n",
      "                                                                                                  \n",
      "==================================================================================================\n",
      "Total params: 250,547\n",
      "Trainable params: 250,547\n",
      "Non-trainable params: 0\n",
      "__________________________________________________________________________________________________\n",
      "None\n"
     ]
    }
   ],
   "source": [
    "from keras.models import Model\n",
    "\n",
    "model = Model([encoder_inputs, decoder_inputs], outputs)\n",
    "model.compile(optimizer='rmsprop', loss='categorical_crossentropy', metrics=['accuracy'])\n",
    "print(model.summary())"
   ]
  },
  {
   "cell_type": "code",
   "execution_count": 13,
   "id": "15060743",
   "metadata": {},
   "outputs": [
    {
     "name": "stdout",
     "output_type": "stream",
     "text": [
      "Epoch 1/20\n",
      "1407/1407 [==============================] - 32s 17ms/step - loss: 0.9942 - accuracy: 0.7397 - val_loss: 0.4796 - val_accuracy: 0.8497\n",
      "Epoch 2/20\n",
      "1407/1407 [==============================] - 22s 16ms/step - loss: 0.3373 - accuracy: 0.8960 - val_loss: 0.2272 - val_accuracy: 0.9325\n",
      "Epoch 3/20\n",
      "1407/1407 [==============================] - 22s 16ms/step - loss: 0.1616 - accuracy: 0.9535 - val_loss: 0.1363 - val_accuracy: 0.9602\n",
      "Epoch 4/20\n",
      "1407/1407 [==============================] - 21s 15ms/step - loss: 0.0856 - accuracy: 0.9787 - val_loss: 0.0675 - val_accuracy: 0.9831\n",
      "Epoch 5/20\n",
      "1407/1407 [==============================] - 21s 15ms/step - loss: 0.0514 - accuracy: 0.9869 - val_loss: 0.0473 - val_accuracy: 0.9875\n",
      "Epoch 6/20\n",
      "1407/1407 [==============================] - 21s 15ms/step - loss: 0.0400 - accuracy: 0.9893 - val_loss: 0.0431 - val_accuracy: 0.9882\n",
      "Epoch 7/20\n",
      "1407/1407 [==============================] - 21s 15ms/step - loss: 0.0336 - accuracy: 0.9911 - val_loss: 0.0364 - val_accuracy: 0.9900\n",
      "Epoch 8/20\n",
      "1407/1407 [==============================] - 21s 15ms/step - loss: 0.0292 - accuracy: 0.9922 - val_loss: 0.0315 - val_accuracy: 0.9914\n",
      "Epoch 9/20\n",
      "1407/1407 [==============================] - 21s 15ms/step - loss: 0.0256 - accuracy: 0.9932 - val_loss: 0.0294 - val_accuracy: 0.9923\n",
      "Epoch 10/20\n",
      "1407/1407 [==============================] - 21s 15ms/step - loss: 0.0231 - accuracy: 0.9939 - val_loss: 0.0290 - val_accuracy: 0.9921\n",
      "Epoch 11/20\n",
      "1407/1407 [==============================] - 22s 15ms/step - loss: 0.0205 - accuracy: 0.9947 - val_loss: 0.0267 - val_accuracy: 0.9930\n",
      "Epoch 12/20\n",
      "1407/1407 [==============================] - 22s 16ms/step - loss: 0.0187 - accuracy: 0.9952 - val_loss: 0.0239 - val_accuracy: 0.9936\n",
      "Epoch 13/20\n",
      "1407/1407 [==============================] - 22s 15ms/step - loss: 0.0170 - accuracy: 0.9956 - val_loss: 0.0237 - val_accuracy: 0.9938\n",
      "Epoch 14/20\n",
      "1407/1407 [==============================] - 22s 15ms/step - loss: 0.0158 - accuracy: 0.9959 - val_loss: 0.0222 - val_accuracy: 0.9942\n",
      "Epoch 15/20\n",
      "1407/1407 [==============================] - 21s 15ms/step - loss: 0.0143 - accuracy: 0.9963 - val_loss: 0.0213 - val_accuracy: 0.9944\n",
      "Epoch 16/20\n",
      "1407/1407 [==============================] - 21s 15ms/step - loss: 0.0134 - accuracy: 0.9965 - val_loss: 0.0203 - val_accuracy: 0.9946\n",
      "Epoch 17/20\n",
      "1407/1407 [==============================] - 21s 15ms/step - loss: 0.0125 - accuracy: 0.9967 - val_loss: 0.0206 - val_accuracy: 0.9945\n",
      "Epoch 18/20\n",
      "1407/1407 [==============================] - 22s 15ms/step - loss: 0.0118 - accuracy: 0.9969 - val_loss: 0.0193 - val_accuracy: 0.9950\n",
      "Epoch 19/20\n",
      "1407/1407 [==============================] - 21s 15ms/step - loss: 0.0109 - accuracy: 0.9972 - val_loss: 0.0188 - val_accuracy: 0.9949\n",
      "Epoch 20/20\n",
      "1407/1407 [==============================] - 21s 15ms/step - loss: 0.0103 - accuracy: 0.9973 - val_loss: 0.0190 - val_accuracy: 0.9952\n"
     ]
    }
   ],
   "source": [
    "from keras.callbacks import EarlyStopping, TensorBoard\n",
    "\n",
    "early_stopping = EarlyStopping(monitor='val_loss', patience=3, verbose=1, restore_best_weights=True)\n",
    "tensorboard = TensorBoard(log_dir='./logs', histogram_freq=1)\n",
    "\n",
    "trn = model.fit([encoder_input_sequences, decoder_input_sequences],\n",
    "                decoder_outputs_onehot, \n",
    "                epochs=EPOCHS, \n",
    "                validation_split=0.1,\n",
    "                callbacks=[early_stopping, tensorboard])"
   ]
  },
  {
   "cell_type": "code",
   "execution_count": 14,
   "id": "ccf04e0e",
   "metadata": {},
   "outputs": [
    {
     "data": {
      "image/png": "[encoded data removed]",
      "text/plain": [
       "<Figure size 1000x500 with 1 Axes>"
      ]
     },
     "metadata": {},
     "output_type": "display_data"
    },
    {
     "data": {
      "image/png": "[encoded data removed]",
      "text/plain": [
       "<Figure size 1000x500 with 1 Axes>"
      ]
     },
     "metadata": {},
     "output_type": "display_data"
    }
   ],
   "source": [
    "import matplotlib.pyplot as plt\n",
    "\n",
    "# Sample training history data\n",
    "epochs = range(1, 21)  # assuming 10 epochs\n",
    "loss = trn.history['loss']\n",
    "val_loss = trn.history['val_loss']\n",
    "accuracy = trn.history['accuracy']\n",
    "val_accuracy = trn.history['val_accuracy']\n",
    "\n",
    "# Plotting loss\n",
    "plt.figure(figsize=(10, 5))\n",
    "plt.plot(epochs, loss, 'g', label='Training loss')\n",
    "plt.plot(epochs, val_loss, 'r', label='Validation loss')\n",
    "plt.title('Loss')\n",
    "plt.xlabel('Epochs')\n",
    "plt.ylabel('Loss')\n",
    "plt.legend()\n",
    "plt.grid(True)\n",
    "plt.show()\n",
    "\n",
    "# Plotting accuracy\n",
    "plt.figure(figsize=(10, 5))\n",
    "plt.plot(epochs, accuracy, 'g', label='Training accuracy')\n",
    "plt.plot(epochs, val_accuracy, 'r', label='Validation accuracy')\n",
    "plt.title('Accuracy')\n",
    "plt.xlabel('Epochs')\n",
    "plt.ylabel('Accuracy')\n",
    "plt.legend()\n",
    "plt.grid(True)\n",
    "plt.show()"
   ]
  },
  {
   "cell_type": "code",
   "execution_count": 15,
   "id": "d284f80a",
   "metadata": {},
   "outputs": [
    {
     "name": "stdout",
     "output_type": "stream",
     "text": [
      "Model: \"model_1\"\n",
      "_________________________________________________________________\n",
      " Layer (type)                Output Shape              Param #   \n",
      "=================================================================\n",
      " input_1 (InputLayer)        [(None, 15)]              0         \n",
      "                                                                 \n",
      " embedding (Embedding)       (None, 15, 100)           20000     \n",
      "                                                                 \n",
      " lstm (LSTM)                 [(None, 100),             80400     \n",
      "                              (None, 100),                       \n",
      "                              (None, 100)]                       \n",
      "                                                                 \n",
      "=================================================================\n",
      "Total params: 100,400\n",
      "Trainable params: 100,400\n",
      "Non-trainable params: 0\n",
      "_________________________________________________________________\n",
      "None\n"
     ]
    }
   ],
   "source": [
    "encoder_model = Model(encoder_inputs, encoder_states)\n",
    "print(encoder_model.summary())"
   ]
  },
  {
   "cell_type": "code",
   "execution_count": 16,
   "id": "c7f9aeae",
   "metadata": {},
   "outputs": [],
   "source": [
    "import pickle\n",
    "import os\n",
    "\n",
    "# pickle.dump(encoder_model, open('MODELS/model_prd_enc.sav', 'wb'))"
   ]
  },
  {
   "cell_type": "code",
   "execution_count": 17,
   "id": "6b63a0ce",
   "metadata": {},
   "outputs": [],
   "source": [
    "decoder_input_h = Input(shape=(LSTM_NEURONS,))\n",
    "decoder_input_c = Input(shape=(LSTM_NEURONS,))\n",
    "decoder_input_states = [decoder_input_h, decoder_input_c]\n",
    "\n",
    "decoder_input_word = Input(shape=(1,))\n",
    "decoder_input_word_emb = decoder_embedding_layer(decoder_input_word)\n",
    "\n",
    "decoder_outputs, h, c = decoder(decoder_input_word_emb, initial_state=decoder_input_states)\n",
    "decoder_states = [h, c]\n",
    "\n",
    "outputs = output_dense_layer(decoder_outputs)"
   ]
  },
  {
   "cell_type": "code",
   "execution_count": 18,
   "id": "1931fc00",
   "metadata": {},
   "outputs": [
    {
     "name": "stdout",
     "output_type": "stream",
     "text": [
      "Model: \"model_2\"\n",
      "__________________________________________________________________________________________________\n",
      " Layer (type)                   Output Shape         Param #     Connected to                     \n",
      "==================================================================================================\n",
      " input_5 (InputLayer)           [(None, 1)]          0           []                               \n",
      "                                                                                                  \n",
      " embedding_1 (Embedding)        multiple             34700       ['input_5[0][0]']                \n",
      "                                                                                                  \n",
      " input_3 (InputLayer)           [(None, 100)]        0           []                               \n",
      "                                                                                                  \n",
      " input_4 (InputLayer)           [(None, 100)]        0           []                               \n",
      "                                                                                                  \n",
      " lstm_1 (LSTM)                  multiple             80400       ['embedding_1[1][0]',            \n",
      "                                                                  'input_3[0][0]',                \n",
      "                                                                  'input_4[0][0]']                \n",
      "                                                                                                  \n",
      " dense (Dense)                  multiple             35047       ['lstm_1[1][0]']                 \n",
      "                                                                                                  \n",
      "==================================================================================================\n",
      "Total params: 150,147\n",
      "Trainable params: 150,147\n",
      "Non-trainable params: 0\n",
      "__________________________________________________________________________________________________\n",
      "None\n"
     ]
    }
   ],
   "source": [
    "decoder_model = Model([decoder_input_word]+decoder_input_states, [outputs]+decoder_states)\n",
    "print(decoder_model.summary())"
   ]
  },
  {
   "cell_type": "code",
   "execution_count": 19,
   "id": "83956981",
   "metadata": {},
   "outputs": [],
   "source": [
    "# pickle.dump(decoder_model, open('MODELS/model_prd_dec.sav', 'wb'))"
   ]
  },
  {
   "cell_type": "code",
   "execution_count": 20,
   "id": "6b03d64f",
   "metadata": {},
   "outputs": [],
   "source": [
    "from numpy import argmax\n",
    "\n",
    "index_to_word_input = {v:k for k,v in inputs_word2index.items()}\n",
    "index_to_word_output = {v:k for k,v in outputs_word2index.items()}\n",
    "\n",
    "def translate(input_seq):\n",
    "    states = encoder_model.predict(input_seq,verbose=0)\n",
    "    \n",
    "    sos = outputs_word2index['<sos>']\n",
    "    eos = outputs_word2index['<eos>']\n",
    "    \n",
    "    output_seq = zeros((1, 1))\n",
    "    output_seq[0, 0] = sos\n",
    "    \n",
    "    output_sentence = []\n",
    "    \n",
    "    for _ in range(outputs_maxlen):\n",
    "        output_tokens, h, c = decoder_model.predict([output_seq]+states,verbose=0)\n",
    "        idx = argmax(output_tokens[0, 0, :])\n",
    "        \n",
    "        if idx == eos:\n",
    "            break     \n",
    "        word = ''\n",
    "        if idx > 0:\n",
    "            word = index_to_word_output[idx]\n",
    "            output_sentence.append(word)\n",
    "        \n",
    "        states = [h, c]\n",
    "        output_seq[0, 0] = idx\n",
    "    \n",
    "    return ' '.join(output_sentence)"
   ]
  },
  {
   "cell_type": "code",
   "execution_count": 21,
   "id": "08e34aac",
   "metadata": {},
   "outputs": [
    {
     "name": "stdout",
     "output_type": "stream",
     "text": [
      "Input: he dislikes the old green automobile .\n",
      "Response: il n'aime la vieille automobile verte .\n"
     ]
    }
   ],
   "source": [
    "from numpy import random\n",
    "\n",
    "i = random.choice(len(inputs))\n",
    "input_seq = encoder_input_sequences[i:i+1]\n",
    "translation = translate(input_seq)\n",
    "\n",
    "print('Input:', inputs[i])\n",
    "print('Response:', translation)"
   ]
  },
  {
   "cell_type": "code",
   "execution_count": null,
   "id": "67588704",
   "metadata": {},
   "outputs": [],
   "source": []
  },
  {
   "cell_type": "code",
   "execution_count": null,
   "id": "9bc2cc38",
   "metadata": {},
   "outputs": [],
   "source": []
  },
  {
   "cell_type": "code",
   "execution_count": 22,
   "id": "d565a1cd",
   "metadata": {},
   "outputs": [
    {
     "name": "stdout",
     "output_type": "stream",
     "text": [
      "WARNING:tensorflow:Compiled the loaded model, but the compiled metrics have yet to be built. `model.compile_metrics` will be empty until you train or evaluate the model.\n"
     ]
    },
    {
     "name": "stderr",
     "output_type": "stream",
     "text": [
      "WARNING:absl:Found untraced functions such as lstm_cell_layer_call_fn, lstm_cell_layer_call_and_return_conditional_losses while saving (showing 2 of 2). These functions will not be directly callable after loading.\n"
     ]
    },
    {
     "name": "stdout",
     "output_type": "stream",
     "text": [
      "INFO:tensorflow:Assets written to: MODELS/model_prd_enc_tf\\assets\n"
     ]
    },
    {
     "name": "stderr",
     "output_type": "stream",
     "text": [
      "INFO:tensorflow:Assets written to: MODELS/model_prd_enc_tf\\assets\n"
     ]
    },
    {
     "name": "stdout",
     "output_type": "stream",
     "text": [
      "WARNING:tensorflow:Compiled the loaded model, but the compiled metrics have yet to be built. `model.compile_metrics` will be empty until you train or evaluate the model.\n"
     ]
    },
    {
     "name": "stderr",
     "output_type": "stream",
     "text": [
      "WARNING:tensorflow:Compiled the loaded model, but the compiled metrics have yet to be built. `model.compile_metrics` will be empty until you train or evaluate the model.\n",
      "WARNING:absl:Found untraced functions such as lstm_cell_1_layer_call_fn, lstm_cell_1_layer_call_and_return_conditional_losses while saving (showing 2 of 2). These functions will not be directly callable after loading.\n"
     ]
    },
    {
     "name": "stdout",
     "output_type": "stream",
     "text": [
      "INFO:tensorflow:Assets written to: MODELS/model_prd_dec_tf\\assets\n"
     ]
    },
    {
     "name": "stderr",
     "output_type": "stream",
     "text": [
      "INFO:tensorflow:Assets written to: MODELS/model_prd_dec_tf\\assets\n"
     ]
    }
   ],
   "source": [
    "encoder_model.save('MODELS/model_prd_enc_tf')\n",
    "\n",
    "decoder_model.save('MODELS/model_prd_dec_tf')"
   ]
  },
  {
   "cell_type": "code",
   "execution_count": 29,
   "id": "8a0cbaf2",
   "metadata": {},
   "outputs": [],
   "source": [
    "tokenizer_file = \"Tokenizers/tokenizer.pickle\"\n",
    "with open(tokenizer_file, 'wb') as handle:\n",
    "    pickle.dump(input_tokenizer, handle, protocol=pickle.HIGHEST_PROTOCOL)"
   ]
  },
  {
   "cell_type": "code",
   "execution_count": 30,
   "id": "fda04d58",
   "metadata": {},
   "outputs": [],
   "source": [
    "tokenizer_file = \"Tokenizers/tokenizer_fr.pickle\"\n",
    "with open(tokenizer_file, 'wb') as handle:\n",
    "    pickle.dump(output_tokenizer, handle, protocol=pickle.HIGHEST_PROTOCOL)"
   ]
  },
  {
   "cell_type": "code",
   "execution_count": null,
   "id": "4ffca62e",
   "metadata": {},
   "outputs": [],
   "source": [
    "# END"
   ]
  }
 ],
 "metadata": {
  "kernelspec": {
   "display_name": "Python 3 (ipykernel)",
   "language": "python",
   "name": "python3"
  },
  "language_info": {
   "codemirror_mode": {
    "name": "ipython",
    "version": 3
   },
   "file_extension": ".py",
   "mimetype": "text/x-python",
   "name": "python",
   "nbconvert_exporter": "python",
   "pygments_lexer": "ipython3",
   "version": "3.9.15"
  }
 },
 "nbformat": 4,
 "nbformat_minor": 5
}
